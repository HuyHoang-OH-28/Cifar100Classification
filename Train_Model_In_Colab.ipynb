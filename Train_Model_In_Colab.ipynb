{
  "nbformat": 4,
  "nbformat_minor": 0,
  "metadata": {
    "colab": {
      "name": "Train_Model_In_Colab.ipynb",
      "provenance": [],
      "collapsed_sections": []
    },
    "kernelspec": {
      "name": "python3",
      "display_name": "Python 3"
    },
    "language_info": {
      "name": "python"
    }
  },
  "cells": [
    {
      "cell_type": "code",
      "metadata": {
        "id": "Vkyr7r65-rTk"
      },
      "source": [
        "import torch\n",
        "from torchvision import datasets\n",
        "import matplotlib.pyplot as plt\n",
        "from torchvision import transforms"
      ],
      "execution_count": 1,
      "outputs": []
    },
    {
      "cell_type": "markdown",
      "metadata": {
        "id": "t_xpjRCyO-98"
      },
      "source": [
        "## Dataset\n"
      ]
    },
    {
      "cell_type": "code",
      "metadata": {
        "id": "jeuyV1yz-vi1"
      },
      "source": [
        "class CIFAR100Dataset():\n",
        "    def __init__(self,batch_size = 256):\n",
        "        self.transform = transform=transforms.Compose([\n",
        "                                transforms.ToTensor(),\n",
        "                                transforms.Normalize((0.4915, 0.4823, 0.4468),(0.2470, 0.2435, 0.2616))\n",
        "                        ])\n",
        "        self.batch_size = batch_size\n",
        "        self.train_set = datasets.CIFAR100(\"/\",train=True, download=True, transform = self.transform)\n",
        "        self.val_set = datasets.CIFAR100(\"/\",train=False, download=True, transform = self.transform)\n",
        "\n",
        "    def data_Loader(self,data_set,shuffle = True):\n",
        "        return torch.utils.data.DataLoader(data_set, batch_size= self.batch_size, shuffle=shuffle)\n",
        "\n",
        "    def get_train_loader(self):\n",
        "        return self.data_Loader(self.train_set)\n",
        "\n",
        "    def get_val_loader(self):\n",
        "        return self.data_Loader(self.val_set)"
      ],
      "execution_count": 24,
      "outputs": []
    },
    {
      "cell_type": "markdown",
      "metadata": {
        "id": "oxo2L0lLPCYO"
      },
      "source": [
        "## Models"
      ]
    },
    {
      "cell_type": "code",
      "metadata": {
        "id": "tdszSmoiBGeM"
      },
      "source": [
        "import torch.nn as nn\n",
        "class BasicModel(nn.Module):\n",
        "    def __init__(self):\n",
        "        super().__init__()\n",
        "        self.layer = nn.Sequential(\n",
        "            nn.Flatten(),\n",
        "            nn.Linear(3*32*32,512),\n",
        "            nn.BatchNorm1d(512),\n",
        "            nn.ReLU(),\n",
        "\n",
        "            nn.Linear(512,200),\n",
        "            nn.BatchNorm1d(200),\n",
        "            nn.ReLU(),\n",
        "            \n",
        "            nn.Linear(200,100),\n",
        "        )\n",
        "\n",
        "        \n",
        "    def forward(self, x):\n",
        "        x = self.layer(x)\n",
        "        return x\n"
      ],
      "execution_count": 25,
      "outputs": []
    },
    {
      "cell_type": "code",
      "metadata": {
        "id": "DvRCKUprCZ1a"
      },
      "source": [
        "import torch.nn.functional as F\n",
        "class CNN(nn.Module):    \n",
        "    def __init__(self):\n",
        "        super().__init__() \n",
        "        \n",
        "        #with a hidden layer, as feedforward - neural network\n",
        "        self.linear1 = nn.Linear(3*32*32, 1536) #hidden layer\n",
        "        self.linear2 = nn.Linear(1536, 100) #output layer\n",
        "        \n",
        "    def forward(self, xb):\n",
        "        # Flatten images into vectors\n",
        "        out = xb.view(xb.size(0), -1)\n",
        "        \n",
        "        # Apply layers & activation functions  \n",
        "        out = self.linear1(out)  \n",
        "        out = F.relu(out)        \n",
        "        out = self.linear2(out)  \n",
        "        return out"
      ],
      "execution_count": 39,
      "outputs": []
    },
    {
      "cell_type": "markdown",
      "metadata": {
        "id": "KpHOeBd7PFlV"
      },
      "source": [
        "## Train Model"
      ]
    },
    {
      "cell_type": "code",
      "metadata": {
        "id": "2oxoh8kMB5v3"
      },
      "source": [
        "def train(data,optimizer,model,n_epochs,loss_function):\n",
        "    logs =[]\n",
        "    losses = []\n",
        "    val_accs =[]\n",
        "\n",
        "    train_loader = data.get_train_loader()\n",
        "    val_loader = data.get_val_loader()\n",
        "    for epoch in range(1, n_epochs + 1):\n",
        "        for i,batch in enumerate(train_loader):\n",
        "            model.train()\n",
        "\n",
        "            inputs, labels = batch\n",
        "            optimizer.zero_grad()\n",
        "\n",
        "            outputs = model(inputs)\n",
        "            loss = loss_function(outputs,labels)\n",
        "\n",
        "            loss.backward()\n",
        "            optimizer.step() #update parameters\n",
        "        # val loop\n",
        "        model.eval()\n",
        "        true_preds = 0\n",
        "        for batch in val_loader: \n",
        "            inputs, labels = batch\n",
        "            with torch.no_grad():\n",
        "                preds = model(inputs).argmax(dim=-1)\n",
        "                true_preds += (preds == labels).sum().item()\n",
        "        val_acc = true_preds/len(data.val_set)\n",
        "        print('Epoch {}, Training loss {}, Val accuracy {}'.format(epoch, loss, val_acc))\n",
        "        logs.append('Epoch {}, Training loss: {}, Val accuracy: {}'.format(epoch, loss, val_acc))\n",
        "        losses.append(loss)\n",
        "        val_accs.append(val_acc)\n",
        "\n",
        "    # write logs\n",
        "    with open('logs.txt', 'w') as f:\n",
        "        for line in logs:\n",
        "            f.write(line)\n",
        "            f.write('\\n')\n",
        "    return losses,val_accs"
      ],
      "execution_count": 43,
      "outputs": []
    },
    {
      "cell_type": "code",
      "metadata": {
        "id": "A_CCK372K46M"
      },
      "source": [
        "model = CNN()\n",
        "loss_function = nn.CrossEntropyLoss()\n",
        "optimizer = torch.optim.Adam(model.parameters(), lr=1e-4)\n",
        "n_epochs = 5"
      ],
      "execution_count": 44,
      "outputs": []
    },
    {
      "cell_type": "code",
      "metadata": {
        "colab": {
          "base_uri": "https://localhost:8080/"
        },
        "id": "gh5nvk0-Do_0",
        "outputId": "f2c0aa30-2312-4a20-9556-e0a263357e1d"
      },
      "source": [
        "losses,val_accs = train(cifar100,optimizer,model,n_epochs,loss_function)"
      ],
      "execution_count": 46,
      "outputs": [
        {
          "output_type": "stream",
          "name": "stdout",
          "text": [
            "Epoch 1, Training loss 3.6358819007873535, Val accuracy 0.1786\n",
            "Epoch 2, Training loss 3.095608949661255, Val accuracy 0.2021\n",
            "Epoch 3, Training loss 3.3029208183288574, Val accuracy 0.2156\n",
            "Epoch 4, Training loss 2.9315245151519775, Val accuracy 0.2281\n",
            "Epoch 5, Training loss 3.0061278343200684, Val accuracy 0.2366\n"
          ]
        }
      ]
    },
    {
      "cell_type": "code",
      "metadata": {
        "colab": {
          "base_uri": "https://localhost:8080/",
          "height": 282
        },
        "id": "KQLfEVPuEeW0",
        "outputId": "0f0c8714-cf29-4dd5-adfe-7dbd3651ed14"
      },
      "source": [
        "plt.plot(losses)"
      ],
      "execution_count": 48,
      "outputs": [
        {
          "output_type": "execute_result",
          "data": {
            "text/plain": [
              "[<matplotlib.lines.Line2D at 0x7f4e8722bd10>]"
            ]
          },
          "metadata": {},
          "execution_count": 48
        },
        {
          "output_type": "display_data",
          "data": {
            "image/png": "[encoded data removed]",
            "text/plain": [
              "<Figure size 432x288 with 1 Axes>"
            ]
          },
          "metadata": {
            "needs_background": "light"
          }
        }
      ]
    },
    {
      "cell_type": "code",
      "metadata": {
        "colab": {
          "base_uri": "https://localhost:8080/",
          "height": 282
        },
        "id": "zhvgem38J9OD",
        "outputId": "6be99eda-7fb7-4b33-c4a7-e25cb433535d"
      },
      "source": [
        "plt.plot(val_accs)"
      ],
      "execution_count": 47,
      "outputs": [
        {
          "output_type": "execute_result",
          "data": {
            "text/plain": [
              "[<matplotlib.lines.Line2D at 0x7f4e870cf090>]"
            ]
          },
          "metadata": {},
          "execution_count": 47
        },
        {
          "output_type": "display_data",
          "data": {
            "image/png": "[encoded data removed]",
            "text/plain": [
              "<Figure size 432x288 with 1 Axes>"
            ]
          },
          "metadata": {
            "needs_background": "light"
          }
        }
      ]
    }
  ]
}